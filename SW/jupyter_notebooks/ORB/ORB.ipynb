{
 "cells": [
  {
   "cell_type": "markdown",
   "metadata": {},
   "source": [
    "write bitstream"
   ]
  },
  {
   "cell_type": "code",
   "execution_count": null,
   "metadata": {},
   "outputs": [],
   "source": [
    "from pynq import Overlay\n",
    "from pynq import Xlnk\n",
    "import pprint\n",
    "import matplotlib.pyplot as plt\n",
    "import numpy as np\n",
    "import cv2\n",
    "from time import time\n",
    "import math\n",
    "xlnk = Xlnk()\n",
    "overlay = Overlay('./ORB_zcu104.bit')"
   ]
  },
  {
   "cell_type": "markdown",
   "metadata": {},
   "source": [
    "test"
   ]
  },
  {
   "cell_type": "code",
   "execution_count": null,
   "metadata": {},
   "outputs": [],
   "source": [
    "dma_cfg = overlay.axi_dma_cfg\n",
    "dma_data = overlay.axi_dma_data\n",
    "\n",
    "dma_cfg.sendchannel.start()\n",
    "dma_data.sendchannel.start()\n",
    "dma_data.recvchannel.start()"
   ]
  },
  {
   "cell_type": "code",
   "execution_count": null,
   "metadata": {},
   "outputs": [],
   "source": [
    "img_ori = cv2.imread('000000.png')\n",
    "height = img_ori.shape[0]\n",
    "width = img_ori.shape[1]\n",
    "img_gray = cv2.cvtColor(img_ori,cv2.COLOR_BGR2GRAY)\n",
    "\n",
    "src_buf = xlnk.cma_array(shape=(width*height,), dtype=np.uint8)\n",
    "view=np.frombuffer(src_buf,dtype = np.uint8,count = -1)\n",
    "np.copyto(view,img_gray.ravel(),casting='same_kind')\n",
    "des_buf = xlnk.cma_array(shape=(8192,16), dtype=np.uint32)\n",
    "cfg_src_buf = xlnk.cma_array(shape=(4,), dtype=np.uint32)\n",
    "scale = pow(1.2, 1)\n",
    "cfg_src_buf[0] = width\n",
    "cfg_src_buf[1] = height\n",
    "cfg_src_buf[2] = scale * pow(2, 14)\n",
    "cfg_src_buf[3] = 1 / scale * pow(2, 14)"
   ]
  },
  {
   "cell_type": "code",
   "execution_count": null,
   "metadata": {},
   "outputs": [],
   "source": [
    "dma_cfg.sendchannel.transfer(cfg_src_buf)\n",
    "dma_data.sendchannel.transfer(src_buf)\n",
    "dma_data.recvchannel.transfer(des_buf)\n",
    "\n",
    "dma_cfg.sendchannel.wait()\n",
    "dma_data.sendchannel.wait()\n",
    "dma_data.recvchannel.wait()\n",
    "\n",
    "des_buf.flush()\n",
    "bytes_read=dma_data.mmio.read(0x58)\n",
    "featurePointsNum = int(bytes_read/64) - 1\n",
    "print(str(featurePointsNum)+'  pixels are detected')"
   ]
  },
  {
   "cell_type": "code",
   "execution_count": null,
   "metadata": {
    "scrolled": true
   },
   "outputs": [],
   "source": [
    "for i in range(2, featurePointsNum):\n",
    "    row_ind = des_buf[i][0] >> 16 & 0b111111111\n",
    "    col_ind = (des_buf[i][0] >> 25) + ((des_buf[i][1] & 0b1111) << 7)\n",
    "    angle =( des_buf[i][0] >> 7 ) & 0b111111111\n",
    "    score = des_buf[i][0] & 0b1111111\n",
    "    cv2.circle(img_ori,(np.int(col_ind*scale),np.int(row_ind*scale)),1,(0,0,255),-1)\n",
    "#     for j in range(8):\n",
    "#         print((des_buf[i][j+1]>>4)+((des_buf[i][j+2]& 0b1111)<<28))\n",
    "\n",
    "    print(row_ind*scale, col_ind*scale)\n",
    "    print(angle/32)\n",
    "    print(score)"
   ]
  },
  {
   "cell_type": "code",
   "execution_count": null,
   "metadata": {},
   "outputs": [],
   "source": [
    "plt.figure(figsize=(10,7.5))\n",
    "plt.imshow(img_ori, cmap='gray')"
   ]
  }
 ],
 "metadata": {
  "kernelspec": {
   "display_name": "Python 3",
   "language": "python",
   "name": "python3"
  },
  "language_info": {
   "codemirror_mode": {
    "name": "ipython",
    "version": 3
   },
   "file_extension": ".py",
   "mimetype": "text/x-python",
   "name": "python",
   "nbconvert_exporter": "python",
   "pygments_lexer": "ipython3",
   "version": "3.6.5"
  }
 },
 "nbformat": 4,
 "nbformat_minor": 2
}

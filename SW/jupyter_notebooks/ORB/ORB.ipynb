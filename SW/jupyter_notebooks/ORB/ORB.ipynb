{
 "cells": [
  {
   "cell_type": "code",
   "execution_count": null,
   "source": [
    "from pynq import Overlay\r\n",
    "from pynq import Xlnk\r\n",
    "import pprint\r\n",
    "import matplotlib.pyplot as plt\r\n",
    "import numpy as np\r\n",
    "import cv2\r\n",
    "from time import time\r\n",
    "import math\r\n",
    "xlnk = Xlnk()\r\n",
    "overlay = Overlay('./ORB_zcu104.bit')"
   ],
   "outputs": [],
   "metadata": {}
  },
  {
   "cell_type": "code",
   "execution_count": null,
   "source": [
    "dma_cfg = overlay.axi_dma_cfg\r\n",
    "dma_data = overlay.axi_dma_data\r\n",
    "\r\n",
    "dma_cfg.sendchannel.start()\r\n",
    "dma_data.sendchannel.start()\r\n",
    "dma_data.recvchannel.start()"
   ],
   "outputs": [],
   "metadata": {}
  },
  {
   "cell_type": "code",
   "execution_count": null,
   "source": [
    "img_ori = cv2.imread('000000.png')\r\n",
    "height = img_ori.shape[0]\r\n",
    "width = img_ori.shape[1]\r\n",
    "img_gray = cv2.cvtColor(img_ori,cv2.COLOR_BGR2GRAY)\r\n",
    "\r\n",
    "src_buf = xlnk.cma_array(shape=(width*height,), dtype=np.uint8)\r\n",
    "view=np.frombuffer(src_buf,dtype = np.uint8,count = -1)\r\n",
    "np.copyto(view,img_gray.ravel(),casting='same_kind')\r\n",
    "des_buf = xlnk.cma_array(shape=(8192,16), dtype=np.uint32)\r\n",
    "cfg_src_buf = xlnk.cma_array(shape=(4,), dtype=np.uint32)\r\n",
    "scale = pow(1.2, 1)\r\n",
    "cfg_src_buf[0] = width\r\n",
    "cfg_src_buf[1] = height\r\n",
    "cfg_src_buf[2] = scale * pow(2, 14)\r\n",
    "cfg_src_buf[3] = 1 / scale * pow(2, 14)"
   ],
   "outputs": [],
   "metadata": {}
  },
  {
   "cell_type": "code",
   "execution_count": null,
   "source": [
    "dma_cfg.sendchannel.transfer(cfg_src_buf)\r\n",
    "dma_data.sendchannel.transfer(src_buf)\r\n",
    "dma_data.recvchannel.transfer(des_buf)\r\n",
    "\r\n",
    "dma_cfg.sendchannel.wait()\r\n",
    "dma_data.sendchannel.wait()\r\n",
    "dma_data.recvchannel.wait()\r\n",
    "\r\n",
    "des_buf.flush()\r\n",
    "bytes_read=dma_data.mmio.read(0x58)\r\n",
    "featurePointsNum = int(bytes_read/64) - 1\r\n",
    "print(str(featurePointsNum)+'  pixels are detected')"
   ],
   "outputs": [],
   "metadata": {}
  },
  {
   "cell_type": "code",
   "execution_count": null,
   "source": [
    "for i in range(2, featurePointsNum):\r\n",
    "    row_ind = des_buf[i][0] >> 16 & 0b111111111\r\n",
    "    col_ind = (des_buf[i][0] >> 25) + ((des_buf[i][1] & 0b1111) << 7)\r\n",
    "    angle =( des_buf[i][0] >> 7 ) & 0b111111111\r\n",
    "    score = des_buf[i][0] & 0b1111111\r\n",
    "    cv2.circle(img_ori,(np.int(col_ind*scale),np.int(row_ind*scale)),1,(0,0,255),-1)\r\n",
    "#     for j in range(8):\r\n",
    "#         print((des_buf[i][j+1]>>4)+((des_buf[i][j+2]& 0b1111)<<28))\r\n",
    "\r\n",
    "    print(row_ind*scale, col_ind*scale)\r\n",
    "    print(angle/32)\r\n",
    "    print(score)"
   ],
   "outputs": [],
   "metadata": {
    "scrolled": true
   }
  },
  {
   "cell_type": "code",
   "execution_count": null,
   "source": [
    "plt.figure(figsize=(10,7.5))\r\n",
    "plt.imshow(img_ori, cmap='gray')"
   ],
   "outputs": [],
   "metadata": {}
  }
 ],
 "metadata": {
  "kernelspec": {
   "display_name": "Python 3",
   "language": "python",
   "name": "python3"
  },
  "language_info": {
   "codemirror_mode": {
    "name": "ipython",
    "version": 3
   },
   "file_extension": ".py",
   "mimetype": "text/x-python",
   "name": "python",
   "nbconvert_exporter": "python",
   "pygments_lexer": "ipython3",
   "version": "3.6.5"
  }
 },
 "nbformat": 4,
 "nbformat_minor": 2
}
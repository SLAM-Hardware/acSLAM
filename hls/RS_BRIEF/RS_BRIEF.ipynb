{
 "cells": [
  {
   "cell_type": "code",
   "execution_count": null,
   "metadata": {},
   "outputs": [],
   "source": [
    "from pynq import Overlay\n",
    "from pynq import Xlnk\n",
    "import pprint\n",
    "import matplotlib.pyplot as plt\n",
    "import numpy as np\n",
    "import cv2\n",
    "from time import time\n",
    "xlnk = Xlnk()\n",
    "overlay = Overlay('./RS_BRIEF_ultra96-v2.bit')\n",
    "dma_src = overlay.axi_dma_src\n",
    "dma_des = overlay.axi_dma_des\n",
    "dma_des.recvchannel.start()\n",
    "dma_src.sendchannel.start()\n"
   ]
  },
  {
   "cell_type": "code",
   "execution_count": null,
   "metadata": {},
   "outputs": [],
   "source": [
    "img_ori = cv2.imread('./test_data/'+'000000'+'.png')\n",
    "img_gray = cv2.cvtColor(img_ori,cv2.COLOR_BGR2GRAY)\n",
    "src_buf = xlnk.cma_array(shape=(1241*376,), dtype=np.uint16)\n",
    "view=np.frombuffer(src_buf,dtype = np.uint16,count = -1)\n",
    "np.copyto(view,img_gray.ravel(),casting='same_kind')\n",
    "des_buf = xlnk.cma_array(shape=(8192,8), dtype=np.uint64)\n",
    "for i in range (1241*20,1241*24):\n",
    "    src_buf[i] = src_buf[i] + 0b111100000000\n"
   ]
  },
  {
   "cell_type": "code",
   "execution_count": null,
   "metadata": {},
   "outputs": [],
   "source": [
    "t0 = time()\n",
    "dma_des.recvchannel.transfer(des_buf)\n",
    "dma_src.sendchannel.transfer(src_buf)\n",
    "t1 = time()\n",
    "tmp = 0\n",
    "for i in range(50000):\n",
    "    tmp = tmp + 1\n",
    "t2 = time()\n",
    "dma_src.sendchannel.wait()\n",
    "dma_des.recvchannel.wait()\n",
    "des_buf.flush()\n",
    "t3 = time()\n",
    "print('time of transfer:'+ str(t1-t0) + 'seconds')\n",
    "print('time of addition:'+ str(t2-t0) + 'seconds')\n",
    "print('time of computing RS BRIEF:'+ str(t3-t0) + 'seconds')\n",
    "bytes_read=dma_des.mmio.read(0x58)\n",
    "featurePointsNum = int(bytes_read/64) - 1\n",
    "print(str(featurePointsNum)+' feature points are detected')"
   ]
  },
  {
   "cell_type": "code",
   "execution_count": null,
   "metadata": {
    "scrolled": true
   },
   "outputs": [],
   "source": [
    "for i in range(int(bytes_read/64)):\n",
    "    for j in range(8):\n",
    "        print(bin(des_buf[i][j]))"
   ]
  },
  {
   "cell_type": "code",
   "execution_count": null,
   "metadata": {},
   "outputs": [],
   "source": [
    "dma_des.recvchannel.stop()\n",
    "dma_src.sendchannel.stop()\n",
    "src_buf.freebuffer()\n",
    "des_buf.freebuffer()"
   ]
  },
  {
   "cell_type": "code",
   "execution_count": null,
   "metadata": {},
   "outputs": [],
   "source": []
  }
 ],
 "metadata": {
  "kernelspec": {
   "display_name": "Python 3",
   "language": "python",
   "name": "python3"
  },
  "language_info": {
   "codemirror_mode": {
    "name": "ipython",
    "version": 3
   },
   "file_extension": ".py",
   "mimetype": "text/x-python",
   "name": "python",
   "nbconvert_exporter": "python",
   "pygments_lexer": "ipython3",
   "version": "3.6.5"
  }
 },
 "nbformat": 4,
 "nbformat_minor": 2
}
